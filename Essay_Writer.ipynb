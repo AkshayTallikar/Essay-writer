{
  "nbformat": 4,
  "nbformat_minor": 0,
  "metadata": {
    "colab": {
      "name": "Essay Writer.ipynb",
      "provenance": []
    },
    "kernelspec": {
      "name": "python3",
      "display_name": "Python 3"
    },
    "accelerator": "GPU"
  },
  "cells": [
    {
      "cell_type": "code",
      "metadata": {
        "id": "OIlwmoXdN4qa",
        "colab_type": "code",
        "colab": {
          "base_uri": "https://localhost:8080/",
          "height": 170
        },
        "outputId": "33c5bc31-e0da-41ad-d56b-2b6564c50bd5"
      },
      "source": [
        "%tensorflow_version 1.x\n",
        "!pip install -q gpt-2-simple\n",
        "import gpt_2_simple as gpt2\n",
        "from datetime import datetime\n",
        "from google.colab import files"
      ],
      "execution_count": 2,
      "outputs": [
        {
          "output_type": "stream",
          "text": [
            "TensorFlow 1.x selected.\n",
            "WARNING:tensorflow:\n",
            "The TensorFlow contrib module will not be included in TensorFlow 2.0.\n",
            "For more information, please see:\n",
            "  * https://github.com/tensorflow/community/blob/master/rfcs/20180907-contrib-sunset.md\n",
            "  * https://github.com/tensorflow/addons\n",
            "  * https://github.com/tensorflow/io (for I/O related ops)\n",
            "If you depend on functionality not listed there, please file an issue.\n",
            "\n"
          ],
          "name": "stdout"
        }
      ]
    },
    {
      "cell_type": "code",
      "metadata": {
        "id": "Dr3h_OcwOCEY",
        "colab_type": "code",
        "colab": {
          "base_uri": "https://localhost:8080/",
          "height": 357
        },
        "outputId": "debd1c10-e9a0-4af4-f3e8-39bb636a7e06"
      },
      "source": [
        "!nvidia-smi"
      ],
      "execution_count": 3,
      "outputs": [
        {
          "output_type": "stream",
          "text": [
            "Sun Jul 19 21:41:46 2020       \n",
            "+-----------------------------------------------------------------------------+\n",
            "| NVIDIA-SMI 450.51.05    Driver Version: 418.67       CUDA Version: 10.1     |\n",
            "|-------------------------------+----------------------+----------------------+\n",
            "| GPU  Name        Persistence-M| Bus-Id        Disp.A | Volatile Uncorr. ECC |\n",
            "| Fan  Temp  Perf  Pwr:Usage/Cap|         Memory-Usage | GPU-Util  Compute M. |\n",
            "|                               |                      |               MIG M. |\n",
            "|===============================+======================+======================|\n",
            "|   0  Tesla T4            Off  | 00000000:00:04.0 Off |                    0 |\n",
            "| N/A   60C    P8    10W /  70W |      0MiB / 15079MiB |      0%      Default |\n",
            "|                               |                      |                 ERR! |\n",
            "+-------------------------------+----------------------+----------------------+\n",
            "                                                                               \n",
            "+-----------------------------------------------------------------------------+\n",
            "| Processes:                                                                  |\n",
            "|  GPU   GI   CI        PID   Type   Process name                  GPU Memory |\n",
            "|        ID   ID                                                   Usage      |\n",
            "|=============================================================================|\n",
            "|  No running processes found                                                 |\n",
            "+-----------------------------------------------------------------------------+\n"
          ],
          "name": "stdout"
        }
      ]
    },
    {
      "cell_type": "code",
      "metadata": {
        "id": "qjzgzTXQOGE9",
        "colab_type": "code",
        "colab": {
          "base_uri": "https://localhost:8080/",
          "height": 136
        },
        "outputId": "92d0a951-a7e1-4f01-ad9d-d9e8b7678de6"
      },
      "source": [
        "gpt2.download_gpt2(model_name=\"1558M\")"
      ],
      "execution_count": 8,
      "outputs": [
        {
          "output_type": "stream",
          "text": [
            "Fetching checkpoint: 1.05Mit [00:00, 568Mit/s]                                                      \n",
            "Fetching encoder.json: 1.05Mit [00:00, 127Mit/s]                                                    \n",
            "Fetching hparams.json: 1.05Mit [00:00, 398Mit/s]                                                    \n",
            "Fetching model.ckpt.data-00000-of-00001: 1.42Git [00:07, 183Mit/s]                                  \n",
            "Fetching model.ckpt.index: 1.05Mit [00:00, 353Mit/s]                                                \n",
            "Fetching model.ckpt.meta: 1.05Mit [00:00, 126Mit/s]                                                 \n",
            "Fetching vocab.bpe: 1.05Mit [00:00, 196Mit/s]                                                       \n"
          ],
          "name": "stderr"
        }
      ]
    },
    {
      "cell_type": "code",
      "metadata": {
        "id": "6cIhc59rOKAX",
        "colab_type": "code",
        "colab": {
          "base_uri": "https://localhost:8080/",
          "height": 34
        },
        "outputId": "9ddd2c6c-2a38-46ed-8be6-9abf20bc9406"
      },
      "source": [
        "gpt2.mount_gdrive()"
      ],
      "execution_count": 9,
      "outputs": [
        {
          "output_type": "stream",
          "text": [
            "Drive already mounted at /content/drive; to attempt to forcibly remount, call drive.mount(\"/content/drive\", force_remount=True).\n"
          ],
          "name": "stdout"
        }
      ]
    },
    {
      "cell_type": "code",
      "metadata": {
        "id": "YdBP0le2Q2QH",
        "colab_type": "code",
        "colab": {}
      },
      "source": [
        "file_name = 'guncontrol.txt'"
      ],
      "execution_count": 12,
      "outputs": []
    },
    {
      "cell_type": "code",
      "metadata": {
        "id": "HaNv-3idQ2e_",
        "colab_type": "code",
        "colab": {}
      },
      "source": [
        "gpt2.copy_file_from_gdrive(file_name)"
      ],
      "execution_count": 13,
      "outputs": []
    },
    {
      "cell_type": "code",
      "metadata": {
        "id": "eo6W9jW0Q28k",
        "colab_type": "code",
        "colab": {
          "base_uri": "https://localhost:8080/",
          "height": 374
        },
        "outputId": "57de87cd-7394-434f-a7c1-3a380e29349a"
      },
      "source": [
        "sess = gpt2.start_tf_sess()\n",
        "\n",
        "gpt2.finetune(sess,\n",
        "              dataset=file_name,\n",
        "              model_name='1558M',\n",
        "              steps=1000,\n",
        "              restore_from='fresh',\n",
        "              run_name='run1',\n",
        "              print_every=10,\n",
        "              sample_every=200,\n",
        "              save_every=500\n",
        "              )"
      ],
      "execution_count": 14,
      "outputs": [
        {
          "output_type": "stream",
          "text": [
            "WARNING:tensorflow:From /usr/local/lib/python3.6/dist-packages/gpt_2_simple/src/sample.py:17: where (from tensorflow.python.ops.array_ops) is deprecated and will be removed in a future version.\n",
            "Instructions for updating:\n",
            "Use tf.where in 2.0, which has the same broadcast rule as np.where\n",
            "WARNING:tensorflow:From /usr/local/lib/python3.6/dist-packages/gpt_2_simple/src/memory_saving_gradients.py:62: get_backward_walk_ops (from tensorflow.contrib.graph_editor.select) is deprecated and will be removed after 2019-06-06.\n",
            "Instructions for updating:\n",
            "Please use tensorflow.python.ops.op_selector.get_backward_walk_ops.\n",
            "Loading checkpoint models/345M/model.ckpt\n",
            "INFO:tensorflow:Restoring parameters from models/345M/model.ckpt\n"
          ],
          "name": "stdout"
        },
        {
          "output_type": "stream",
          "text": [
            "100%|██████████| 1/1 [00:00<00:00, 279.56it/s]"
          ],
          "name": "stderr"
        },
        {
          "output_type": "stream",
          "text": [
            "Loading dataset...\n",
            "dataset has 8525 tokens\n",
            "Training...\n"
          ],
          "name": "stdout"
        },
        {
          "output_type": "stream",
          "text": [
            "\n"
          ],
          "name": "stderr"
        },
        {
          "output_type": "stream",
          "text": [
            "[10 | 23.36] loss=1.51 avg=1.51\n",
            "[20 | 38.30] loss=1.50 avg=1.51\n",
            "[30 | 53.34] loss=0.89 avg=1.30\n",
            "[40 | 68.50] loss=1.24 avg=1.29\n",
            "[50 | 83.80] loss=0.27 avg=1.08\n",
            "[60 | 99.18] loss=0.10 avg=0.91\n",
            "[70 | 114.65] loss=0.27 avg=0.82\n",
            "interrupted\n",
            "Saving checkpoint/run1/model-73\n"
          ],
          "name": "stdout"
        }
      ]
    },
    {
      "cell_type": "code",
      "metadata": {
        "id": "ecwCjYCxQ35w",
        "colab_type": "code",
        "colab": {}
      },
      "source": [
        "gpt2.copy_checkpoint_to_gdrive(run_name='run1')"
      ],
      "execution_count": 15,
      "outputs": []
    },
    {
      "cell_type": "code",
      "metadata": {
        "id": "_Qh0ad1NT5ZO",
        "colab_type": "code",
        "colab": {}
      },
      "source": [
        "gpt2.copy_checkpoint_from_gdrive(run_name='run1')"
      ],
      "execution_count": 16,
      "outputs": []
    },
    {
      "cell_type": "code",
      "metadata": {
        "id": "4VyewSwJQ-aD",
        "colab_type": "code",
        "colab": {
          "base_uri": "https://localhost:8080/",
          "height": 51
        },
        "outputId": "54d63496-5097-468c-a1e2-26231b1e3c87"
      },
      "source": [
        "sess = gpt2.start_tf_sess()\n",
        "gpt2.load_gpt2(sess, run_name='run1')"
      ],
      "execution_count": 4,
      "outputs": [
        {
          "output_type": "stream",
          "text": [
            "Loading checkpoint checkpoint/run1/model-73\n",
            "INFO:tensorflow:Restoring parameters from checkpoint/run1/model-73\n"
          ],
          "name": "stdout"
        }
      ]
    },
    {
      "cell_type": "code",
      "metadata": {
        "id": "KVD-DfEEVrB5",
        "colab_type": "code",
        "colab": {
          "base_uri": "https://localhost:8080/",
          "height": 1000
        },
        "outputId": "185d0886-4a4f-4af2-d60b-a50227175c51"
      },
      "source": [
        "gpt2.generate(sess,\n",
        "              length=1000,\n",
        "              temperature=0.7,\n",
        "              prefix=\"Gun control\",\n",
        "              nsamples=5,\n",
        "              batch_size=5\n",
        "              )"
      ],
      "execution_count": 6,
      "outputs": [
        {
          "output_type": "stream",
          "text": [
            "Gun control advocates generally argue that the problem with gun violence is not the guns, but with societal values and broken homes. They point to the statistic that 80% of gun homicides are by handguns, which proves their point. However, this is only a statistic, it does not prove the point. \n",
            "The growing gun related death toll proves that point further. \n",
            " Gun control advocates provide their strongest argument by sticking to the United States Constitution. They claim regulating guns is an infringement on their rights as American citizens because they read the Second Amendment as giving them the right to bear arms.  However, despite the writers of the Constitution possibly thinking this, the amount of violence in today's society proves that point. \n",
            "By giving the government the power to arm citizens, some level of control has been taken over the citizenry. But regardless of how much more \"American\" the society looks, guns still remain\n",
            "able in the society. \n",
            " Gun control advocates provide their strongest argument by sticking to the United States Constitution. They claim regulating guns is an infringement on their rights as American citizens because they read the Second Amendment as giving them the right to bear arms.  However, despite the writers of the Constitution possibly thinking this, the amount of violence in today's society proves that point. \n",
            "The amount of gun related death toll proves that point further.   Gun control advocates provide their strongest argument by sticking to the United States Constitution. They claim regulating guns is an infringement on their rights as American citizens because they read the Second Amendment as giving them the right to bear arms.  However, despite the writers of the Constitution possibly thinking this, the amount of violence in today's society proves that point. \n",
            "The amount of death and injury related to guns in the U.S. is the highest it has been in a long time. In 1990, 80,000 people were killed in gun- related incidents, which is statistically close to a homicide and far exceeds the number of deaths from natural causes (O’Donnell 771). \n",
            "The amount of death and injury related to guns in the U.S. is the highest it has been in a long time. In 1990, 80,000 people were killed in gun- related incidents, which is statistically close to a homicide and far exceeds the number of deaths from natural causes (O’Donnell 771). \n",
            "Gun control advocates provide their strongest argument by sticking to the United States Constitution. They claim regulating guns is an infringement on their rights as American citizens because they read the Second Amendment as giving them the right to bear arms.  However, despite the writers of the Constitution possibly thinking this, the amount of violence in today’s society proves that point. \n",
            "The amount of death and injury related to guns in the U.S. is the highest it has been in a long time. In 1990, 80,000 people were killed in gun-related incidents, which is statistically close to a homicide and far exceeds the number of deaths from natural causes (O’Donnel 771). \n",
            "The amount of death and injury related to guns in the U.S. is the highest it has been in a long time. In 1990, 80,000 people were killed in gun-related incidents, which is statistically close to a homicide and far exceeds the number of deaths from natural causes (O’Donnel 771). \n",
            "The amount of death and injury related to guns in the U.S. is the highest it has been in a long time. In 1990, 80,000 people were killed, which is statistically close to a homicide and far exceeds the number of deaths from natural causes (O’Donnel 771). \n",
            "The amount of death and injury related to guns in the U.S. is the highest it has been in a long time. In 1990, 60,000 people were killed, which is statistically close to a death toll higher than natural causes (O’Donnel 771). \n",
            "The amount of death and injury related to guns in the U.S. is the highest it has been in a long time. In 1990, 132,000 people were killed, which is statistically close to a death toll higher than natural causes (O’Donnel 771). \n",
            "The amount of death and injury related to guns in the U.S. is the highest it has been in a long time. In 1990, 132,000 people were killed, which is statistically close to a death toll higher than natural causes (O’Donnel 771). \n",
            "The amount of death and injury related to guns in the U.S. is the highest it has been in a long time. In 1990, 66,000 people were killed, which is statistically close to a death toll higher than natural causes (O’Donnel 771). \n",
            "The amount of death and injury related to guns in the U\n",
            "====================\n",
            "Gun control advocates claim that with today's technology, guns are no longer solely created and used for hunting, but that people are now using them for everything from identity theft to mass murder. Are people becoming more law abiding because their children and grandchildren are becoming gun owners, or is it the other way around?\n",
            "A study by the American Psychological Association, Commission on Violence and Youth showed, in 1993, that 8% of males in the U.S. identified as \"hard core killers,\" and that number went up to 22% among males ages 12-19. Among these \"hard core killers,\" there was a statistically significant increase in the use of a firearm (Giffords Law Center to Prevent Gun Violence, n.p).\n",
            "A study made by Boston University showed, in a study made in New York City in 1995, that 71% of males in the city had at least once brought a handgun to school, and that number went up to 90% among males (Law Center to Prevent Gun Violence, n.p).\n",
            "A study made by Northeastern University showed, in a study made in 1993, that 8% of males in the U.S. identified as \"hard core killers,\" and that number went up to 12% among males (Law Center to Prevent Gun Violence, n.p).\n",
            "A survey made by the American Psychological Association, Commission on Violence and Youth showed, in 1993, that 12% of males in the U.S. had at least once brought a handgun to school, and that number went up to 14% among males (Giffords Law Center to Prevent Gun Violence, n.p).\n",
            "A study made by Boston University showed, in a study made in 1993, that 8% of males in the U.S. identified as \"hard core killers,\" and that number went up to 12% among males (Law Center to Prevent Gun Violence, n.p).\n",
            "A study made by Northeastern University showed, in a study made in '93, that 8% of males in the U.S. identified as \"hard core killers,\" and that number went up to 13% among males (Law Center to Prevent Gun Violence, n.p).\n",
            "A study made by Northeastern University showed, in a study made in '92, that 8% of males in the U.S. identified as \"hard core killers,\" and that number went up to 13% among males (Law Center to Prevent Gun Violence, n.p).\n",
            "A national survey made by the GfK Chartered Institute for Social and Economic Research showed, in a study made in 1993, that 8% of males in the U.S. had at least once brought a handgun to school, and that number went up to 10% among males (Giffords Law Center to Prevent Gun Violence, n.p).\n",
            "A study made by the American Psychological Association, Commission on Violence and Youth showed, in a study made in '92, that 8% of males in the U.S. identified as \"hard core killers,\" and that number went up to 11% among males (Giffords Law Center to Prevent Gun Violence, n.p).\n",
            "A study made by the American Psychological Association, Commission on Violence and Youth showed, in a study made in '91, that 8% of males in the U.S. identified as \"hard core killers,\" and that number went up to 12% among males (Giffords Law Center to Prevent Gun Violence, n.p).\n",
            "A national survey made by the GfK Chartered Institute for Social and Economic Research showed, in a study made in '91, that 8% of males in the U.S. had at least once brought a handgun to school, and that number went up to 10% among males (Giffords Law Center to Prevent Gun Violence, n.p).\n",
            "A study made by the American Psychological Association, Commission on Violence and Youth showed, in a study made in '90, that 8% of males in the U.S. identified as \"hard core killers,\" and that number went up to 11% among males (Giffords Law Center to Prevent Gun Violence, n.p).\n",
            "A national survey made by the GfK Chartered Institute for Social and Economic Research showed, in a study made in '89, that 8% of males in the U.S. identified as \"hard core killers,\" and that number went up to 12% among males (Giffords Law Center to Prevent Gun Violence, n.p).\n",
            "A study made by the American Psychological Association, Commission on Violence and Youth showed, in a study made in '88, that 8% of males in the U.S. identified as \"hard core killers,\" and that number went up to 13% among males (Giffords Law Center to Prevent Gun Violence, n.p).\n",
            "A national survey made by the GfK\n",
            "====================\n",
            "Gun control is a heated issue in American society, and it is because of the heated issue that we have today's major incidents like 9/11. There has never been a more urgent need for armed citizens in society than today, and with today's situation’staught lesson lesson a long time ago. “there is no excuse for a person to own a gun if they’d like to be left alone, but there is, and that is what this country is all about”\n",
            "Jeffrey Toobin, a former prosecutor in the Southern District of New York, said, “a lot of times the most violent people in a society are the people who own the guns”\n",
            "This is partly true, but it’s also partly because the kids are getting shot all the time. According to statistics, 80% of all homicides in the U.S., and approximately 90% of all suicides\n",
            "identify as a result of a gun. According to a study made by the American Psychological Association, “a firearm in the home is\n",
            "also often used by a family member or a stranger to perpetrate the\n",
            "homicide (Kruschke, Carroll & Kagan,n.p).\n",
            " According to the CDC National Vital Statistics Report, suicide by a person\n",
            "18 years of age or older is almost always the\n",
            "direct result of a firearm. There has been a steady rise in\n",
            "homicide by firearm in the U.S. since the late 1950’s, when there were no\n",
            "stand your ground laws, 200% increase\n",
            "since then, “33,000 Americans\n",
            "yearn for death by gunshot, as compared to 13,500 who\n",
            "decided not to take their lives\n",
            "(Kruschke, Carroll & Kagan,n.p). One of the biggest reasons for the\n",
            "increase in gun-related death and injury is the shooting of children. According to a study made by\n",
            "the American Psychological Association, “a firearm in the home is also often used by a family member or a stranger to perpetrate the\n",
            "homicide (Kruschke, Carroll & Kagan,n.p).\n",
            " According to a survey conducted by John Hopkins Center for Gun and Policy Research,\n",
            "74% of American men believe that having a gun is the\n",
            "reason for their death, 22 years earlier than any other country in the world\n",
            "(Kruschke, Carroll & Kagan,n.p). “That’s 13%, It’s a statistic\n",
            "that clearly shows the heavy handed treatment meted out to those who\n",
            "claim to be protecting us. “That’s a lot of men, a lot of kids\n",
            "get shot, It must be the most gruesome way in killing.\n",
            "One of the biggest reasons for the increase in gun-related death and injury is the shooting of children. According to a\n",
            "survey conducted by the American Psychological Association, “a firearm in the home is also often used by a family member or a stranger to perpetrate the\n",
            "homicide (Kruschke, Carroll & Kagan,n.p).\n",
            " According to a study made by the American Psychological Association, “a firearm in the home is also often used by a family member or a stranger to perpetrate the\n",
            "homicide (Kruschke, Carroll & Kagan,n.p).\n",
            " According to a survey conducted by the American Psychological Association, “a firearm in the home is also often used by a family member or a stranger to perpetrate the\n",
            "homicide (Kruschke, Carroll & Kagan,n.p).\n",
            " According to a survey conducted by the American Psychological Association, “a firearm in the home is also often used by a family member or a stranger to perpetrate the\n",
            "homicide (Kruschke, Carroll & Kagan,n.p).\n",
            " According to a survey conducted by the American Psychological Association, “a firearm in the home is also often used by a family member or a stranger to perpetrate the\n",
            "homicide (Kruschke, Carroll & Kagan,n.p).\n",
            " According to a survey conducted by the American Psychological Association, “a firearm in the home is also often used by a family member or a stranger to perpetrate the\n",
            "homicide (Kruschke, Carroll & Kagan,n.p).\n",
            " According to a survey conducted by the American Psychological Association, “a firearm in the home is also often used by a family member or a stranger to perpetrate the\n",
            "homicide (Kruschke, Carroll & Kagan,n.p).\n",
            " According to a survey conducted by the American Psychological Association, “a firearm in the home is also often used by a family member or a stranger to perpetrate the\n",
            "homicide (Kruschke, Carroll &\n",
            "====================\n",
            "Gun control advocates claim that the perpetration of gun violence is all the result of a society that allows people to own guns. The fact of the matter is, according to a survey conducted by John Hopkins Center for Gun and Policy Research and the University of Chicago revealed, that 80% of American citizens would like to see guns more strictly regulated. That means thatsays gun controllers that there are enough guns out there for all time. \n",
            " By not adding to the millions of guns that are currently registered in the U.S., pro gun controllers are able to say that they are not hurting the feelings of the people they claim to be protecting. \n",
            "A study made by the American Psychological Association, Commission on Violence and Youth showed, in a study made in 1993, that 6% of males in the U.S. had at least once brought a handgun to school  (Altimari & Finkel, Jones, 1995). That is one incident out of many, that proves to the experts, that males are indeed getting ready to take their guns to school. \n",
            "The lawmakers in power are proving time and time again, that the perpetration of gun violence depends on the number of deaths that are prevented, not the number of guns that are in circulation. \n",
            "By 1998, 100 years after the beginning of the American nation, the number of deaths from gun-related incidents exceeded natural causes (Giffords Law Center to Prevent Gun Violence, 2001). \n",
            "In December, 1997, 24 years after the beginning of the epidemic, there were 166,686 gun-related deaths in the U.S., as compared to the 33,167 that died in the Korean War (Giffords Law Center to Prevent Gun Violence, 2001). \n",
            "In July, 2004, data from the Violence Policy Center showed, that 72% of all homicides were committed with firearms, that is, handguns, and 12%, 31%, were committed with long guns, such as rifles. This proves, once and for all, that the total number of guns does not equal the total number of deaths, and that the total number of deaths is an average of the ones that occur\n",
            "(Giffords Law Center to Prevent Gun Violence, 2004).\n",
            "\n",
            "prohibiting the sale of guns proves to the anti-gun controllers, that the sales of guns is necessary for the safety of society, and that the pro gun controllers are trying to protect the rights of the individual\n",
            "(Skelton, Jones & Brennan, Unintended Consequences). \n",
            "the amount of guns in a society determines the level of gun violence\n",
            "(Shiller, et al., 2013). \n",
            "prohibition of the sale of guns proves to the anti-gun controllers, that the selling of guns is bad for society, and that the pro gun controllers are trying to protect the rights of the individual\n",
            "(Tatel, et al., 2013). \n",
            "A study made by the American Psychological Association, Commission on Violence and Youth showed, in a study made in 1993, that 6% of males in the U.S. had at least once brought a handgun to school  (Altimari & Finkel, Jones, 1995). \n",
            "In December, 1997, 24 years after the beginning of the epidemic, there were 166,686 gun-related deaths in the U.S., as compared to the 33,167 that died in the Korean War (Giffords Law Center to Prevent Gun Violence, 2001).  \n",
            "In a study made by the American Psychological Association, Commission on Violence and Youth showed, in a study made in 1993, that 6% of males in the U.S. had at least once brought a handgun to school  (Altimari & Finkel, Jones, 1995). \n",
            "In a study made by the American Psychological Association, Commission on Violence and Youth showed, in a study made in 1993, that 6% of males in the U.S. had at least once brought a handgun to school  (Altimari & Finkel, Jones, 1995). \n",
            "In a study made by the American Psychological Association, Commission on Violence and Youth showed, in a study made in 1993, that 6% of males in the U.S. had at least once brought a handgun to school  (Altimari & Finkel, Jones, 1995). \n",
            "In a study made by the American Psychological Association, Commission on Violence and Youth showed, in a study made in 1993, that 6% of males in the U.S. had at least once brought a handgun to school  (Altimari & Finkel, Jones, 1995). \n",
            "In a study made by the American Psychological Association, Commission on Violence and Youth showed, in a study made in 1993, that 6% of males in the U.S. had at least once brought a handgun to school  (Altimari & Finkel, Jones, 1995). \n",
            "In\n",
            "====================\n",
            "Gun control advocates want to ban all guns, but they don't understand that not all guns are created equal. The NRA claims that ALL guns are created equal, but they aren't. They use the example of the murder of 20 children and 6 educators by a student gunman at Sandy Hook. That is one murder, and it shows that when it comes to Tillit i\n",
            "Handguns aren't necessary for all ages, but they are necessary for a certain age group of people. The 20th Amendment gave American citizens the right to bear arms. It doesn't matter what the time or place, if someone has a gun they are\n",
            "able to see the benefit of. \n",
            "The amount of violence in today's society is unacceptable, and it needs to be confronted head on. \n",
            "By banning guns, the government is admitting that the rights of the individual do not extend to including\n",
            "the use of deadly force to protect their rights. \n",
            "American citizens have the right to bear arms, as do all nations. The problem is that the governments of some nations\n",
            "prohibit the possession of firearms, while ignoring the abuse of these deadly weapons. In 1996, there were about 500,000,000\n",
            "deadly shootings in the United States, which is statistically close to a murder, and equals the number of\n",
            "years, weeks, and months, depending on how you look at it, that a person is alive, that is,\n",
            "till they are 18 years of age and have never been convicted of a violent crime. \n",
            "Just Recently, in\n",
            "2013, there were over 13,000,000,000 suicides among males, which is more than triple the number\n",
            "years, weeks, and months, that were spent on deaths from\n",
            "guns, once adjusted for inflation (Pew Research Center, n.p). \n",
            "As one analyst from the Violence Policy Center said, \" The\n",
            "number one reason why we\n",
            "have these numbers is because of deliberate efforts by violent individuals to\n",
            "ensure that they are able to own a firearm.\" \n",
            "This deliberate targeting of\n",
            "towards more accessibility to guns is just the beginning. \n",
            "Just recently, in\n",
            "2017, there was a sharp increase in the number of homicides\n",
            "among males, which is statistically close to a\n",
            "murder, and equals the number of years, weeks, and months, depending on how you look at it (\n",
            "​Pew Research Center, n.p). \n",
            "\n",
            "By: definition a murder or a homicide has to be committed with a firearm. There is no exemption for\n",
            "guns in that regard. In fact, the Brady Act authorizes some forms of gun\n",
            "possession for certain, limited purposes. However, for the most part, people are\n",
            "taken out of the game when it comes to guns. For example, in\n",
            "1997, 32,436 people were killed in gun- related incidents, as compared to the 33,651,000,000 that were killed in\n",
            "World War II (O’Donnell 771). \n",
            "Another way in which we are letting ISIS have their way is by not locking up their\n",
            "victims. In\n",
            "1992, one year’s total death toll from guns equaled the number of years,\n",
            "that is, n, that are, total, that the country was on earth. \n",
            "The amount of violence in our society, and the amount of\n",
            "time, money, and effort that goes into keeping it that way, is downright sickening. \n",
            "One report shows, among\n",
            "all forms of violence, suicides are the most commonly used method of death among\n",
            "all demographics. More than 30% of all suicides among under age\n",
            "35 year are carried out by a firearm, as shown in the chart at right. \n",
            "The number one way that people can\n",
            "prevent their loved one from committing suicide is to gun\n",
            "themselves. There is no reason why someone\n",
            "shouldn’t be able to own a gun. \n",
            "The NRA claims that not all guns are created equal, but they are\n",
            "not true. The claim is that not all guns are created equal, but they are\n",
            "all used for prohibited purposes. In fact, studies have shown that claims like that are false.\n",
            " One study has shown, for example, that claims about guns\n",
            "aren’t proven, but that’s what people bring to the table when they try to pass a ban\n",
            "on guns they don’t understand. \n",
            "Another study has shown,\n",
            "however, that when people are given the facts of the issue, that guns\n",
            "are NOT needed for hunting, but are used for\n",
            "massacres, bloodletting, and mayhem, that’s when things change. \n",
            "The amount of violence in our society, and the amount of time, money, and effort that goes into keeping it that way, is downright sickening. \n",
            "\n",
            "====================\n"
          ],
          "name": "stdout"
        }
      ]
    }
  ]
}